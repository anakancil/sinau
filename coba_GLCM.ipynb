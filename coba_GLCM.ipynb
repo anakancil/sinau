{
  "nbformat": 4,
  "nbformat_minor": 0,
  "metadata": {
    "colab": {
      "name": "coba_GLCM.ipynb",
      "provenance": []
    },
    "kernelspec": {
      "name": "python3",
      "display_name": "Python 3"
    }
  },
  "cells": [
    {
      "cell_type": "code",
      "metadata": {
        "id": "ra9xkaLle7mW",
        "colab_type": "code",
        "colab": {}
      },
      "source": [
        "import numpy as np\n",
        "from skimage.feature import greycomatrix, greycoprops\n",
        "\n",
        "image = np.array([[0, 0, 1, 1],\n",
        "                  [0, 0, 1, 1],\n",
        "                  [0, 2, 2, 2],\n",
        "                  [2, 2, 3, 3]], dtype=np.uint8)\n",
        "\n",
        "g = greycomatrix(image, [1], [0, np.pi/2], levels=4, normed=True, symmetric=True)\n"
      ],
      "execution_count": 0,
      "outputs": []
    },
    {
      "cell_type": "markdown",
      "metadata": {
        "id": "-XYS3yqKSJDg",
        "colab_type": "text"
      },
      "source": [
        "**FITUR-FITUR GLCM**\n",
        "\n",
        "<img src=\"http://murphylab.web.cmu.edu/publications/boland/boland_img46.gif\" width=500 height=500>\n"
      ]
    },
    {
      "cell_type": "markdown",
      "metadata": {
        "id": "hfAY-J4TTbGs",
        "colab_type": "text"
      },
      "source": [
        "Untuk mendapatkan fitur GLCM menggunakan greycopcrops, silahkan gunakan parameter berikut :\n",
        "1.   contrast\n",
        "2.   dissimilarity\n",
        "3.   homogeneity\n",
        "4.   ASM\n",
        "5.   energy\n",
        "6.   correlation\n",
        "\n",
        "\n",
        "\n",
        "\n",
        "\n",
        "\n",
        "\n"
      ]
    },
    {
      "cell_type": "code",
      "metadata": {
        "id": "lzBaapLFTFtA",
        "colab_type": "code",
        "colab": {
          "base_uri": "https://localhost:8080/",
          "height": 50
        },
        "outputId": "f10b5198-b2be-48a9-9978-869bfdfde7f7"
      },
      "source": [
        "# contoh\n",
        "contrast = greycoprops(g, 'contrast')\n",
        "ASM = greycoprops(g, 'ASM') \n",
        "\n",
        "print (\"contrast : \", contrast, \"\\nASM : \", ASM)"
      ],
      "execution_count": 39,
      "outputs": [
        {
          "output_type": "stream",
          "text": [
            "contrast :  [[0.58333333 1.        ]] \n",
            "ASM :  [[0.14583333 0.13888889]]\n"
          ],
          "name": "stdout"
        }
      ]
    },
    {
      "cell_type": "markdown",
      "metadata": {
        "id": "nNDTkXvcUTK0",
        "colab_type": "text"
      },
      "source": [
        "Atau kita dapat melakukan ekstraksi fitur dengan membuat kode sendiri :"
      ]
    },
    {
      "cell_type": "code",
      "metadata": {
        "id": "HlBHmrj2Udfi",
        "colab_type": "code",
        "colab": {
          "base_uri": "https://localhost:8080/",
          "height": 34
        },
        "outputId": "c97d9552-7d2f-49a9-f2e3-2593baadcbaa"
      },
      "source": [
        "ASM_ = sum(sum(g**2)) # ASM\n",
        "ASM_"
      ],
      "execution_count": 42,
      "outputs": [
        {
          "output_type": "execute_result",
          "data": {
            "text/plain": [
              "array([[0.14583333, 0.13888889]])"
            ]
          },
          "metadata": {
            "tags": []
          },
          "execution_count": 42
        }
      ]
    },
    {
      "cell_type": "code",
      "metadata": {
        "id": "LU_E1ZdjI5wr",
        "colab_type": "code",
        "colab": {}
      },
      "source": [
        "## Contrast\n",
        "x=np.copy(g)"
      ],
      "execution_count": 0,
      "outputs": []
    },
    {
      "cell_type": "code",
      "metadata": {
        "id": "SApuQGIfJAxF",
        "colab_type": "code",
        "colab": {}
      },
      "source": [
        "x = (x*0)+1\n",
        "x.view(dtype=np.int8)\n",
        "print(x)\n",
        "\n",
        "for i in range(4):\n",
        "  x[i][:] = x[i][:]*i\n",
        "print(x)\n",
        "\n",
        "for i in range(4):  \n",
        "  for j in range(4):\n",
        "    x[i][j] = x[i][j]-j\n",
        "print(x)\n",
        "\n",
        "x = x**2\n",
        "\n",
        "gx = x*g\n",
        "contrast_ = sum(sum(gx))"
      ],
      "execution_count": 0,
      "outputs": []
    },
    {
      "cell_type": "code",
      "metadata": {
        "id": "D9Lw9wS4OUNc",
        "colab_type": "code",
        "outputId": "3a5a116c-50d5-48b5-8b36-da86f5668fde",
        "colab": {
          "base_uri": "https://localhost:8080/",
          "height": 102
        }
      },
      "source": [
        "print (\"contrast  : \",contrast)\n",
        "print (\"contrast2 : \",contrast_)\n",
        "print (\"\\nASM  : \",ASM)\n",
        "print (\"ASM2 : \",ASM)"
      ],
      "execution_count": 44,
      "outputs": [
        {
          "output_type": "stream",
          "text": [
            "contrast  :  [[0.58333333 1.        ]]\n",
            "contrast2 :  [[0.58333333 1.        ]]\n",
            "\n",
            "ASM  :  [[0.14583333 0.13888889]]\n",
            "ASM2 :  [[0.14583333 0.13888889]]\n"
          ],
          "name": "stdout"
        }
      ]
    }
  ]
}